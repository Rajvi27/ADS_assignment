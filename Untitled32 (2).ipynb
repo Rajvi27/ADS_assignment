{
  "nbformat": 4,
  "nbformat_minor": 0,
  "metadata": {
    "colab": {
      "name": "Untitled32.ipynb",
      "provenance": [],
      "collapsed_sections": []
    },
    "kernelspec": {
      "name": "python3",
      "display_name": "Python 3"
    },
    "language_info": {
      "name": "python"
    }
  },
  "cells": [
    {
      "cell_type": "code",
      "execution_count": 1,
      "metadata": {
        "id": "nHsC5CCRXdn4"
      },
      "outputs": [],
      "source": [
        "import numpy as np \n",
        "import matplotlib.pyplot as plt\n",
        "import pandas as pd \n",
        "\n",
        "# Input data files are available in the read-only \"../input/\" directory\n",
        "# For example, running this (by clicking run or pressing Shift+Enter) will list all files under the input directory\n",
        "\n",
        "import os\n",
        "for dirname, _, filenames in os.walk('/kaggle/input'):\n",
        "    for filename in filenames:\n",
        "        print(os.path.join(dirname, filename))\n"
      ]
    },
    {
      "cell_type": "code",
      "source": [
        "def marks(x,y,z,w):\n",
        "  '''Removes the tick marks but keeps the labels\n",
        "     Move Y axis to the right side'''\n",
        "  for s in [x, y, z, w]:\n",
        "    ax.spines[s].set_visible(False)\n",
        "    \n",
        "    ax.tick_params(axis=u'both', which=u'both',length=0)\n",
        "    \n",
        "    ax.yaxis.tick_right()\n"
      ],
      "metadata": {
        "id": "rvEAOw6Za9pH"
      },
      "execution_count": 2,
      "outputs": []
    },
    {
      "cell_type": "code",
      "source": [
        "print(marks.__doc__)"
      ],
      "metadata": {
        "colab": {
          "base_uri": "https://localhost:8080/"
        },
        "id": "osi69AmN5HXt",
        "outputId": "797d3847-3e2a-4a57-b1ac-049ce461f138"
      },
      "execution_count": 6,
      "outputs": [
        {
          "output_type": "stream",
          "name": "stdout",
          "text": [
            "Removes the tick marks but keeps the labels\n",
            "     Move Y axis to the right side\n"
          ]
        }
      ]
    },
    {
      "cell_type": "code",
      "source": [
        "def label(x,y): \n",
        "  '''put a legend of x and y with upper right location'''\n",
        "  ax.tick_params(axis=u'both', which=u'both',length=0)\n",
        "  plt.legend(labels)\n",
        "  plt.legend(labels,loc='upper right')\n",
        "  return x,y"
      ],
      "metadata": {
        "id": "fuOfVf0kbFJb"
      },
      "execution_count": 3,
      "outputs": []
    },
    {
      "cell_type": "code",
      "source": [
        "print(label.__doc__)"
      ],
      "metadata": {
        "colab": {
          "base_uri": "https://localhost:8080/"
        },
        "id": "3dE_aky25XMz",
        "outputId": "bd7f7b68-c87f-4456-98ec-2e180d434901"
      },
      "execution_count": 7,
      "outputs": [
        {
          "output_type": "stream",
          "name": "stdout",
          "text": [
            "put a legend of x and y with upper right location\n"
          ]
        }
      ]
    },
    {
      "cell_type": "code",
      "source": [
        "def fig_img(x):\n",
        "  ''' put a label name with color,width and alpha'''\n",
        "  ax.bar(movie.index, movie, width=x, color='#b20710', alpha=0.8, label='Movie')\n",
        "  ax.bar(tv.index, tv, width=x, color='#221f1f', alpha=0.8, label='TV Show')\n",
        "  return x"
      ],
      "metadata": {
        "id": "uTh2eoQKZCh9"
      },
      "execution_count": 9,
      "outputs": []
    },
    {
      "cell_type": "code",
      "source": [
        "print(fig_img.__doc__)"
      ],
      "metadata": {
        "colab": {
          "base_uri": "https://localhost:8080/"
        },
        "id": "uNHvM6US5faf",
        "outputId": "f5db1aa2-3722-4819-ff41-1260d3d30a4b"
      },
      "execution_count": 10,
      "outputs": [
        {
          "output_type": "stream",
          "name": "stdout",
          "text": [
            " put a label name with color,width and alpha\n"
          ]
        }
      ]
    },
    {
      "cell_type": "code",
      "source": [
        "def fig_text(x,y):\n",
        "  ''' title of graph '''\n",
        "  fig.text(x, y, 'Rating distribution by Film & TV Show', fontsize=15, fontweight='bold', fontfamily='serif')\n",
        "  return x,y"
      ],
      "metadata": {
        "id": "hiZltjJxKfKA"
      },
      "execution_count": 11,
      "outputs": []
    },
    {
      "cell_type": "code",
      "source": [
        "print(fig_text.__doc__)"
      ],
      "metadata": {
        "colab": {
          "base_uri": "https://localhost:8080/"
        },
        "id": "S6cP-BZR5mvC",
        "outputId": "faa9b9e7-1371-44c4-b535-170443e79370"
      },
      "execution_count": 12,
      "outputs": [
        {
          "output_type": "stream",
          "name": "stdout",
          "text": [
            " title of graph \n"
          ]
        }
      ]
    },
    {
      "cell_type": "code",
      "source": [
        "def fig_ptl(x,y):\n",
        "  ''' subplots with figsize'''\n",
        "  fig, ax = plt.subplots(x, y, figsize=(7, 5))\n",
        "  return x,y"
      ],
      "metadata": {
        "id": "oVWFICFTVGoX"
      },
      "execution_count": 13,
      "outputs": []
    },
    {
      "cell_type": "code",
      "source": [
        "print(fig_ptl.__doc__)"
      ],
      "metadata": {
        "colab": {
          "base_uri": "https://localhost:8080/"
        },
        "id": "xW_M1R6L5tDM",
        "outputId": "c791f69a-a72d-4d09-df15-2525f2f5e883"
      },
      "execution_count": 14,
      "outputs": [
        {
          "output_type": "stream",
          "name": "stdout",
          "text": [
            " subplots with figsize\n"
          ]
        }
      ]
    },
    {
      "cell_type": "code",
      "source": [
        "df = pd.read_csv('/content/netflix_titles.csv')\n",
        "\n",
        "df.head(3)"
      ],
      "metadata": {
        "colab": {
          "base_uri": "https://localhost:8080/",
          "height": 468
        },
        "id": "c3tgUDiAKw-A",
        "outputId": "d2cbea00-eca1-44a5-9fcb-d21b6f3478ff"
      },
      "execution_count": 16,
      "outputs": [
        {
          "output_type": "execute_result",
          "data": {
            "text/plain": [
              "  show_id     type                 title         director  \\\n",
              "0      s1    Movie  Dick Johnson Is Dead  Kirsten Johnson   \n",
              "1      s2  TV Show         Blood & Water              NaN   \n",
              "2      s3  TV Show             Ganglands  Julien Leclercq   \n",
              "\n",
              "                                                cast        country  \\\n",
              "0                                                NaN  United States   \n",
              "1  Ama Qamata, Khosi Ngema, Gail Mabalane, Thaban...   South Africa   \n",
              "2  Sami Bouajila, Tracy Gotoas, Samuel Jouy, Nabi...            NaN   \n",
              "\n",
              "           date_added  release_year rating   duration  \\\n",
              "0  September 25, 2021          2020  PG-13     90 min   \n",
              "1  September 24, 2021          2021  TV-MA  2 Seasons   \n",
              "2  September 24, 2021          2021  TV-MA   1 Season   \n",
              "\n",
              "                                           listed_in  \\\n",
              "0                                      Documentaries   \n",
              "1    International TV Shows, TV Dramas, TV Mysteries   \n",
              "2  Crime TV Shows, International TV Shows, TV Act...   \n",
              "\n",
              "                                         description  \n",
              "0  As her father nears the end of his life, filmm...  \n",
              "1  After crossing paths at a party, a Cape Town t...  \n",
              "2  To protect his family from a powerful drug lor...  "
            ],
            "text/html": [
              "\n",
              "  <div id=\"df-8cde3054-a59e-48c3-9378-4aed46c6029b\">\n",
              "    <div class=\"colab-df-container\">\n",
              "      <div>\n",
              "<style scoped>\n",
              "    .dataframe tbody tr th:only-of-type {\n",
              "        vertical-align: middle;\n",
              "    }\n",
              "\n",
              "    .dataframe tbody tr th {\n",
              "        vertical-align: top;\n",
              "    }\n",
              "\n",
              "    .dataframe thead th {\n",
              "        text-align: right;\n",
              "    }\n",
              "</style>\n",
              "<table border=\"1\" class=\"dataframe\">\n",
              "  <thead>\n",
              "    <tr style=\"text-align: right;\">\n",
              "      <th></th>\n",
              "      <th>show_id</th>\n",
              "      <th>type</th>\n",
              "      <th>title</th>\n",
              "      <th>director</th>\n",
              "      <th>cast</th>\n",
              "      <th>country</th>\n",
              "      <th>date_added</th>\n",
              "      <th>release_year</th>\n",
              "      <th>rating</th>\n",
              "      <th>duration</th>\n",
              "      <th>listed_in</th>\n",
              "      <th>description</th>\n",
              "    </tr>\n",
              "  </thead>\n",
              "  <tbody>\n",
              "    <tr>\n",
              "      <th>0</th>\n",
              "      <td>s1</td>\n",
              "      <td>Movie</td>\n",
              "      <td>Dick Johnson Is Dead</td>\n",
              "      <td>Kirsten Johnson</td>\n",
              "      <td>NaN</td>\n",
              "      <td>United States</td>\n",
              "      <td>September 25, 2021</td>\n",
              "      <td>2020</td>\n",
              "      <td>PG-13</td>\n",
              "      <td>90 min</td>\n",
              "      <td>Documentaries</td>\n",
              "      <td>As her father nears the end of his life, filmm...</td>\n",
              "    </tr>\n",
              "    <tr>\n",
              "      <th>1</th>\n",
              "      <td>s2</td>\n",
              "      <td>TV Show</td>\n",
              "      <td>Blood &amp; Water</td>\n",
              "      <td>NaN</td>\n",
              "      <td>Ama Qamata, Khosi Ngema, Gail Mabalane, Thaban...</td>\n",
              "      <td>South Africa</td>\n",
              "      <td>September 24, 2021</td>\n",
              "      <td>2021</td>\n",
              "      <td>TV-MA</td>\n",
              "      <td>2 Seasons</td>\n",
              "      <td>International TV Shows, TV Dramas, TV Mysteries</td>\n",
              "      <td>After crossing paths at a party, a Cape Town t...</td>\n",
              "    </tr>\n",
              "    <tr>\n",
              "      <th>2</th>\n",
              "      <td>s3</td>\n",
              "      <td>TV Show</td>\n",
              "      <td>Ganglands</td>\n",
              "      <td>Julien Leclercq</td>\n",
              "      <td>Sami Bouajila, Tracy Gotoas, Samuel Jouy, Nabi...</td>\n",
              "      <td>NaN</td>\n",
              "      <td>September 24, 2021</td>\n",
              "      <td>2021</td>\n",
              "      <td>TV-MA</td>\n",
              "      <td>1 Season</td>\n",
              "      <td>Crime TV Shows, International TV Shows, TV Act...</td>\n",
              "      <td>To protect his family from a powerful drug lor...</td>\n",
              "    </tr>\n",
              "  </tbody>\n",
              "</table>\n",
              "</div>\n",
              "      <button class=\"colab-df-convert\" onclick=\"convertToInteractive('df-8cde3054-a59e-48c3-9378-4aed46c6029b')\"\n",
              "              title=\"Convert this dataframe to an interactive table.\"\n",
              "              style=\"display:none;\">\n",
              "        \n",
              "  <svg xmlns=\"http://www.w3.org/2000/svg\" height=\"24px\"viewBox=\"0 0 24 24\"\n",
              "       width=\"24px\">\n",
              "    <path d=\"M0 0h24v24H0V0z\" fill=\"none\"/>\n",
              "    <path d=\"M18.56 5.44l.94 2.06.94-2.06 2.06-.94-2.06-.94-.94-2.06-.94 2.06-2.06.94zm-11 1L8.5 8.5l.94-2.06 2.06-.94-2.06-.94L8.5 2.5l-.94 2.06-2.06.94zm10 10l.94 2.06.94-2.06 2.06-.94-2.06-.94-.94-2.06-.94 2.06-2.06.94z\"/><path d=\"M17.41 7.96l-1.37-1.37c-.4-.4-.92-.59-1.43-.59-.52 0-1.04.2-1.43.59L10.3 9.45l-7.72 7.72c-.78.78-.78 2.05 0 2.83L4 21.41c.39.39.9.59 1.41.59.51 0 1.02-.2 1.41-.59l7.78-7.78 2.81-2.81c.8-.78.8-2.07 0-2.86zM5.41 20L4 18.59l7.72-7.72 1.47 1.35L5.41 20z\"/>\n",
              "  </svg>\n",
              "      </button>\n",
              "      \n",
              "  <style>\n",
              "    .colab-df-container {\n",
              "      display:flex;\n",
              "      flex-wrap:wrap;\n",
              "      gap: 12px;\n",
              "    }\n",
              "\n",
              "    .colab-df-convert {\n",
              "      background-color: #E8F0FE;\n",
              "      border: none;\n",
              "      border-radius: 50%;\n",
              "      cursor: pointer;\n",
              "      display: none;\n",
              "      fill: #1967D2;\n",
              "      height: 32px;\n",
              "      padding: 0 0 0 0;\n",
              "      width: 32px;\n",
              "    }\n",
              "\n",
              "    .colab-df-convert:hover {\n",
              "      background-color: #E2EBFA;\n",
              "      box-shadow: 0px 1px 2px rgba(60, 64, 67, 0.3), 0px 1px 3px 1px rgba(60, 64, 67, 0.15);\n",
              "      fill: #174EA6;\n",
              "    }\n",
              "\n",
              "    [theme=dark] .colab-df-convert {\n",
              "      background-color: #3B4455;\n",
              "      fill: #D2E3FC;\n",
              "    }\n",
              "\n",
              "    [theme=dark] .colab-df-convert:hover {\n",
              "      background-color: #434B5C;\n",
              "      box-shadow: 0px 1px 3px 1px rgba(0, 0, 0, 0.15);\n",
              "      filter: drop-shadow(0px 1px 2px rgba(0, 0, 0, 0.3));\n",
              "      fill: #FFFFFF;\n",
              "    }\n",
              "  </style>\n",
              "\n",
              "      <script>\n",
              "        const buttonEl =\n",
              "          document.querySelector('#df-8cde3054-a59e-48c3-9378-4aed46c6029b button.colab-df-convert');\n",
              "        buttonEl.style.display =\n",
              "          google.colab.kernel.accessAllowed ? 'block' : 'none';\n",
              "\n",
              "        async function convertToInteractive(key) {\n",
              "          const element = document.querySelector('#df-8cde3054-a59e-48c3-9378-4aed46c6029b');\n",
              "          const dataTable =\n",
              "            await google.colab.kernel.invokeFunction('convertToInteractive',\n",
              "                                                     [key], {});\n",
              "          if (!dataTable) return;\n",
              "\n",
              "          const docLinkHtml = 'Like what you see? Visit the ' +\n",
              "            '<a target=\"_blank\" href=https://colab.research.google.com/notebooks/data_table.ipynb>data table notebook</a>'\n",
              "            + ' to learn more about interactive tables.';\n",
              "          element.innerHTML = '';\n",
              "          dataTable['output_type'] = 'display_data';\n",
              "          await google.colab.output.renderOutput(dataTable, element);\n",
              "          const docLink = document.createElement('div');\n",
              "          docLink.innerHTML = docLinkHtml;\n",
              "          element.appendChild(docLink);\n",
              "        }\n",
              "      </script>\n",
              "    </div>\n",
              "  </div>\n",
              "  "
            ]
          },
          "metadata": {},
          "execution_count": 16
        }
      ]
    },
    {
      "cell_type": "code",
      "source": [
        "\n",
        "df['country'] = df['country'].fillna(df['country'].mode()[0])\n",
        "\n",
        "\n",
        "df['cast'].replace(np.nan, 'No Data',inplace  = True)\n",
        "df['director'].replace(np.nan, 'No Data',inplace  = True)\n",
        "\n",
        "# Drops\n",
        "\n",
        "df.dropna(inplace=True)\n",
        "\n",
        "# Drop Duplicates\n",
        "\n",
        "df.drop_duplicates(inplace= True)"
      ],
      "metadata": {
        "id": "ih_LwmlhDXTD"
      },
      "execution_count": 17,
      "outputs": []
    },
    {
      "cell_type": "code",
      "source": [
        "df.isnull().sum()"
      ],
      "metadata": {
        "colab": {
          "base_uri": "https://localhost:8080/"
        },
        "id": "_fUrQdEgDZA0",
        "outputId": "cf4947c6-488d-4a56-9ccf-b8a9de46cdfd"
      },
      "execution_count": 18,
      "outputs": [
        {
          "output_type": "execute_result",
          "data": {
            "text/plain": [
              "show_id         0\n",
              "type            0\n",
              "title           0\n",
              "director        0\n",
              "cast            0\n",
              "country         0\n",
              "date_added      0\n",
              "release_year    0\n",
              "rating          0\n",
              "duration        0\n",
              "listed_in       0\n",
              "description     0\n",
              "dtype: int64"
            ]
          },
          "metadata": {},
          "execution_count": 18
        }
      ]
    },
    {
      "cell_type": "code",
      "source": [
        "df[\"date_added\"] = pd.to_datetime(df['date_added'])\n",
        "\n",
        "df['month_added']=df['date_added'].dt.month\n",
        "df['month_name_added']=df['date_added'].dt.month_name()\n",
        "df['year_added'] = df['date_added'].dt.year\n",
        "\n",
        "df.head(3)"
      ],
      "metadata": {
        "colab": {
          "base_uri": "https://localhost:8080/",
          "height": 468
        },
        "id": "2YenJ0YUDenw",
        "outputId": "86147357-a38a-4b38-ea91-f00933c03e21"
      },
      "execution_count": 19,
      "outputs": [
        {
          "output_type": "execute_result",
          "data": {
            "text/plain": [
              "  show_id     type                 title         director  \\\n",
              "0      s1    Movie  Dick Johnson Is Dead  Kirsten Johnson   \n",
              "1      s2  TV Show         Blood & Water          No Data   \n",
              "2      s3  TV Show             Ganglands  Julien Leclercq   \n",
              "\n",
              "                                                cast        country  \\\n",
              "0                                            No Data  United States   \n",
              "1  Ama Qamata, Khosi Ngema, Gail Mabalane, Thaban...   South Africa   \n",
              "2  Sami Bouajila, Tracy Gotoas, Samuel Jouy, Nabi...  United States   \n",
              "\n",
              "  date_added  release_year rating   duration  \\\n",
              "0 2021-09-25          2020  PG-13     90 min   \n",
              "1 2021-09-24          2021  TV-MA  2 Seasons   \n",
              "2 2021-09-24          2021  TV-MA   1 Season   \n",
              "\n",
              "                                           listed_in  \\\n",
              "0                                      Documentaries   \n",
              "1    International TV Shows, TV Dramas, TV Mysteries   \n",
              "2  Crime TV Shows, International TV Shows, TV Act...   \n",
              "\n",
              "                                         description  month_added  \\\n",
              "0  As her father nears the end of his life, filmm...            9   \n",
              "1  After crossing paths at a party, a Cape Town t...            9   \n",
              "2  To protect his family from a powerful drug lor...            9   \n",
              "\n",
              "  month_name_added  year_added  \n",
              "0        September        2021  \n",
              "1        September        2021  \n",
              "2        September        2021  "
            ],
            "text/html": [
              "\n",
              "  <div id=\"df-2e624fab-b61f-4a73-9d02-16e3236a0a34\">\n",
              "    <div class=\"colab-df-container\">\n",
              "      <div>\n",
              "<style scoped>\n",
              "    .dataframe tbody tr th:only-of-type {\n",
              "        vertical-align: middle;\n",
              "    }\n",
              "\n",
              "    .dataframe tbody tr th {\n",
              "        vertical-align: top;\n",
              "    }\n",
              "\n",
              "    .dataframe thead th {\n",
              "        text-align: right;\n",
              "    }\n",
              "</style>\n",
              "<table border=\"1\" class=\"dataframe\">\n",
              "  <thead>\n",
              "    <tr style=\"text-align: right;\">\n",
              "      <th></th>\n",
              "      <th>show_id</th>\n",
              "      <th>type</th>\n",
              "      <th>title</th>\n",
              "      <th>director</th>\n",
              "      <th>cast</th>\n",
              "      <th>country</th>\n",
              "      <th>date_added</th>\n",
              "      <th>release_year</th>\n",
              "      <th>rating</th>\n",
              "      <th>duration</th>\n",
              "      <th>listed_in</th>\n",
              "      <th>description</th>\n",
              "      <th>month_added</th>\n",
              "      <th>month_name_added</th>\n",
              "      <th>year_added</th>\n",
              "    </tr>\n",
              "  </thead>\n",
              "  <tbody>\n",
              "    <tr>\n",
              "      <th>0</th>\n",
              "      <td>s1</td>\n",
              "      <td>Movie</td>\n",
              "      <td>Dick Johnson Is Dead</td>\n",
              "      <td>Kirsten Johnson</td>\n",
              "      <td>No Data</td>\n",
              "      <td>United States</td>\n",
              "      <td>2021-09-25</td>\n",
              "      <td>2020</td>\n",
              "      <td>PG-13</td>\n",
              "      <td>90 min</td>\n",
              "      <td>Documentaries</td>\n",
              "      <td>As her father nears the end of his life, filmm...</td>\n",
              "      <td>9</td>\n",
              "      <td>September</td>\n",
              "      <td>2021</td>\n",
              "    </tr>\n",
              "    <tr>\n",
              "      <th>1</th>\n",
              "      <td>s2</td>\n",
              "      <td>TV Show</td>\n",
              "      <td>Blood &amp; Water</td>\n",
              "      <td>No Data</td>\n",
              "      <td>Ama Qamata, Khosi Ngema, Gail Mabalane, Thaban...</td>\n",
              "      <td>South Africa</td>\n",
              "      <td>2021-09-24</td>\n",
              "      <td>2021</td>\n",
              "      <td>TV-MA</td>\n",
              "      <td>2 Seasons</td>\n",
              "      <td>International TV Shows, TV Dramas, TV Mysteries</td>\n",
              "      <td>After crossing paths at a party, a Cape Town t...</td>\n",
              "      <td>9</td>\n",
              "      <td>September</td>\n",
              "      <td>2021</td>\n",
              "    </tr>\n",
              "    <tr>\n",
              "      <th>2</th>\n",
              "      <td>s3</td>\n",
              "      <td>TV Show</td>\n",
              "      <td>Ganglands</td>\n",
              "      <td>Julien Leclercq</td>\n",
              "      <td>Sami Bouajila, Tracy Gotoas, Samuel Jouy, Nabi...</td>\n",
              "      <td>United States</td>\n",
              "      <td>2021-09-24</td>\n",
              "      <td>2021</td>\n",
              "      <td>TV-MA</td>\n",
              "      <td>1 Season</td>\n",
              "      <td>Crime TV Shows, International TV Shows, TV Act...</td>\n",
              "      <td>To protect his family from a powerful drug lor...</td>\n",
              "      <td>9</td>\n",
              "      <td>September</td>\n",
              "      <td>2021</td>\n",
              "    </tr>\n",
              "  </tbody>\n",
              "</table>\n",
              "</div>\n",
              "      <button class=\"colab-df-convert\" onclick=\"convertToInteractive('df-2e624fab-b61f-4a73-9d02-16e3236a0a34')\"\n",
              "              title=\"Convert this dataframe to an interactive table.\"\n",
              "              style=\"display:none;\">\n",
              "        \n",
              "  <svg xmlns=\"http://www.w3.org/2000/svg\" height=\"24px\"viewBox=\"0 0 24 24\"\n",
              "       width=\"24px\">\n",
              "    <path d=\"M0 0h24v24H0V0z\" fill=\"none\"/>\n",
              "    <path d=\"M18.56 5.44l.94 2.06.94-2.06 2.06-.94-2.06-.94-.94-2.06-.94 2.06-2.06.94zm-11 1L8.5 8.5l.94-2.06 2.06-.94-2.06-.94L8.5 2.5l-.94 2.06-2.06.94zm10 10l.94 2.06.94-2.06 2.06-.94-2.06-.94-.94-2.06-.94 2.06-2.06.94z\"/><path d=\"M17.41 7.96l-1.37-1.37c-.4-.4-.92-.59-1.43-.59-.52 0-1.04.2-1.43.59L10.3 9.45l-7.72 7.72c-.78.78-.78 2.05 0 2.83L4 21.41c.39.39.9.59 1.41.59.51 0 1.02-.2 1.41-.59l7.78-7.78 2.81-2.81c.8-.78.8-2.07 0-2.86zM5.41 20L4 18.59l7.72-7.72 1.47 1.35L5.41 20z\"/>\n",
              "  </svg>\n",
              "      </button>\n",
              "      \n",
              "  <style>\n",
              "    .colab-df-container {\n",
              "      display:flex;\n",
              "      flex-wrap:wrap;\n",
              "      gap: 12px;\n",
              "    }\n",
              "\n",
              "    .colab-df-convert {\n",
              "      background-color: #E8F0FE;\n",
              "      border: none;\n",
              "      border-radius: 50%;\n",
              "      cursor: pointer;\n",
              "      display: none;\n",
              "      fill: #1967D2;\n",
              "      height: 32px;\n",
              "      padding: 0 0 0 0;\n",
              "      width: 32px;\n",
              "    }\n",
              "\n",
              "    .colab-df-convert:hover {\n",
              "      background-color: #E2EBFA;\n",
              "      box-shadow: 0px 1px 2px rgba(60, 64, 67, 0.3), 0px 1px 3px 1px rgba(60, 64, 67, 0.15);\n",
              "      fill: #174EA6;\n",
              "    }\n",
              "\n",
              "    [theme=dark] .colab-df-convert {\n",
              "      background-color: #3B4455;\n",
              "      fill: #D2E3FC;\n",
              "    }\n",
              "\n",
              "    [theme=dark] .colab-df-convert:hover {\n",
              "      background-color: #434B5C;\n",
              "      box-shadow: 0px 1px 3px 1px rgba(0, 0, 0, 0.15);\n",
              "      filter: drop-shadow(0px 1px 2px rgba(0, 0, 0, 0.3));\n",
              "      fill: #FFFFFF;\n",
              "    }\n",
              "  </style>\n",
              "\n",
              "      <script>\n",
              "        const buttonEl =\n",
              "          document.querySelector('#df-2e624fab-b61f-4a73-9d02-16e3236a0a34 button.colab-df-convert');\n",
              "        buttonEl.style.display =\n",
              "          google.colab.kernel.accessAllowed ? 'block' : 'none';\n",
              "\n",
              "        async function convertToInteractive(key) {\n",
              "          const element = document.querySelector('#df-2e624fab-b61f-4a73-9d02-16e3236a0a34');\n",
              "          const dataTable =\n",
              "            await google.colab.kernel.invokeFunction('convertToInteractive',\n",
              "                                                     [key], {});\n",
              "          if (!dataTable) return;\n",
              "\n",
              "          const docLinkHtml = 'Like what you see? Visit the ' +\n",
              "            '<a target=\"_blank\" href=https://colab.research.google.com/notebooks/data_table.ipynb>data table notebook</a>'\n",
              "            + ' to learn more about interactive tables.';\n",
              "          element.innerHTML = '';\n",
              "          dataTable['output_type'] = 'display_data';\n",
              "          await google.colab.output.renderOutput(dataTable, element);\n",
              "          const docLink = document.createElement('div');\n",
              "          docLink.innerHTML = docLinkHtml;\n",
              "          element.appendChild(docLink);\n",
              "        }\n",
              "      </script>\n",
              "    </div>\n",
              "  </div>\n",
              "  "
            ]
          },
          "metadata": {},
          "execution_count": 19
        }
      ]
    },
    {
      "cell_type": "code",
      "source": [
        "plt.figure(figsize=(12,6))\n",
        "\n",
        "g = plt.pie(df.type.value_counts(),explode=(0.025,0.025), labels=df.type.value_counts().index,autopct='%1.1f%%')\n",
        "labels = ['movie' , 'tv show']\n",
        "plt.title('Percentation of Netflix Titles that are either Movies or TV Shows')\n",
        "plt.legend(labels,loc='upper right')\n",
        "\n",
        "plt.show()"
      ],
      "metadata": {
        "id": "_WrCKeQmDhOX",
        "colab": {
          "base_uri": "https://localhost:8080/",
          "height": 373
        },
        "outputId": "0c427363-e784-43c2-8f24-ae0757287bbc"
      },
      "execution_count": 20,
      "outputs": [
        {
          "output_type": "display_data",
          "data": {
            "text/plain": [
              "<Figure size 864x432 with 1 Axes>"
            ],
            "image/png": "[encoded data removed]"
          },
          "metadata": {}
        }
      ]
    },
    {
      "cell_type": "code",
      "source": [
        "df['count'] = 1\n",
        "\n",
        "# Many productions have several countries listed - this will skew our results , we'll grab the first one mentioned\n",
        "\n",
        "# Lets retrieve just the first country\n",
        "df['first_country'] = df['country'].apply(lambda x: x.split(\",\")[0])\n",
        "df['first_country'].head()\n",
        "ratings_ages = {\n",
        "    'TV-PG': 'Older Kids',\n",
        "    'TV-MA': 'Adults',\n",
        "    'TV-Y7-FV': 'Older Kids',\n",
        "    'TV-Y7': 'Older Kids',\n",
        "    'TV-14': 'Teens',\n",
        "    'R': 'Adults',\n",
        "    'TV-Y': 'Kids',\n",
        "    'NR': 'Adults',\n",
        "    'PG-13': 'Teens',\n",
        "    'TV-G': 'Kids',\n",
        "    'PG': 'Older Kids',\n",
        "    'G': 'Kids',\n",
        "    'UR': 'Adults',\n",
        "    'NC-17': 'Adults'\n",
        "}\n",
        "\n",
        "df['target_ages'] = df['rating'].replace(ratings_ages)\n",
        "df['target_ages'].unique()\n",
        "\n",
        "# Genre\n",
        "\n",
        "df['genre'] = df['listed_in'].apply(lambda x :  x.replace(' ,',',').replace(', ',',').split(',')) \n",
        "# Reducing name length\n",
        "\n",
        "df['first_country'].replace('United States', 'USA', inplace=True)\n",
        "df['first_country'].replace('United Kingdom', 'UK',inplace=True)\n",
        "df['first_country'].replace('South Korea', 'S. Korea',inplace=True)"
      ],
      "metadata": {
        "id": "j-ghwYOHCHCV"
      },
      "execution_count": 21,
      "outputs": []
    },
    {
      "cell_type": "code",
      "source": [
        "data = df.groupby('first_country')['count'].sum().sort_values(ascending=False)[:10]\n",
        "\n",
        "# Plot\n",
        "\n",
        "color_map = ['#f5f5f1' for _ in range(10)]\n",
        "color_map[0] = color_map[1] = color_map[2] =  '#b20710' # color highlight\n",
        "\n",
        "fig, ax = plt.subplots(1,1, figsize=(12, 6))\n",
        "ax.bar(data.index, data, width=0.5, \n",
        "       edgecolor='darkgray',\n",
        "       linewidth=0.6,color=color_map)\n",
        "for i in data.index:\n",
        "    ax.annotate(f\"{data[i]}\", \n",
        "                   xy=(i, data[i] + 150), #i like to change this to roughly 5% of the highest cat\n",
        "                   va = 'center', ha='center',fontweight='light', fontfamily='serif')\n",
        "\n",
        "\n",
        "\n",
        "# Remove border from plot\n",
        "\n",
        "for s in ['top', 'left', 'right']:\n",
        "    ax.spines[s].set_visible(False)\n",
        "    ax.set_xticklabels(data.index, fontfamily='serif', rotation=0)\n",
        "\n",
        "# Title and sub-title\n",
        "\n",
        "fig.text(0.09, 1, 'Top 10 countries on Netflix', fontsize=15, fontweight='bold', fontfamily='serif')\n",
        "fig.text(0.09, 0.95, 'The three most frequent countries have been highlighted.', fontsize=12, fontweight='light', fontfamily='serif')\n",
        "\n",
        "\n",
        "\n",
        "ax.grid(axis='y', linestyle='-', alpha=0.4)   \n",
        "\n",
        "grid_y_ticks = np.arange(0, 4000, 500)\n",
        "ax.set_yticks(grid_y_ticks)\n",
        "ax.set_axisbelow(True)\n",
        "\n",
        "#Axis labels\n",
        "\n",
        "#plt.xlabel(\"Country\", fontsize=12, fontweight='light', fontfamily='serif',loc='left',y=-1.5)\n",
        "#plt.ylabel(\"Count\", fontsize=12, fontweight='light', fontfamily='serif')\n",
        " #plt.legend(loc='upper right')\n",
        "    \n",
        "# thicken the bottom line if you want to\n",
        "plt.axhline(y = 0, color = 'black', linewidth = 1.3, alpha = .7)\n",
        "ax.tick_params(axis='both', which='major', labelsize=12)\n",
        "\n",
        "\n",
        "import matplotlib.lines as lines\n",
        "l1 = lines.Line2D([1, 1], [0, 1], transform=fig.transFigure, figure=fig,color='black',lw=0.2)\n",
        "fig.lines.extend([l1])\n",
        "\n",
        "ax.tick_params(axis=u'both', which=u'both',length=0)\n",
        "\n",
        "plt.show()"
      ],
      "metadata": {
        "colab": {
          "base_uri": "https://localhost:8080/",
          "height": 474
        },
        "id": "DC1_IJrRYvvE",
        "outputId": "888a82bb-ea40-4f82-9cbd-0247f7d63c76"
      },
      "execution_count": 22,
      "outputs": [
        {
          "output_type": "display_data",
          "data": {
            "text/plain": [
              "<Figure size 864x432 with 1 Axes>"
            ],
            "image/png": "[encoded data removed]"
          },
          "metadata": {
            "needs_background": "light"
          }
        }
      ]
    },
    {
      "cell_type": "code",
      "source": [
        "#Ratings\n",
        "order = pd.DataFrame(df.groupby('rating')['count'].sum().sort_values(ascending=False).reset_index())\n",
        "rating_order = list(order['rating'])"
      ],
      "metadata": {
        "id": "ZtfGL7rND2B_"
      },
      "execution_count": 23,
      "outputs": []
    },
    {
      "cell_type": "code",
      "source": [
        ""
      ],
      "metadata": {
        "id": "SQJNshhWMOVC"
      },
      "execution_count": null,
      "outputs": []
    },
    {
      "cell_type": "code",
      "source": [
        "mf = df.groupby('type')['rating'].value_counts().unstack().sort_index().fillna(0).astype(int)[rating_order]\n",
        "\n",
        "movie = mf.loc['Movie']\n",
        "tv = - mf.loc['TV Show']\n",
        "\n",
        "\n",
        "fig, ax = plt.subplots(1,1, figsize=(12, 6))\n",
        "#fun def\n",
        "fig_img(x=0.5)\n",
        "\n",
        "#ax.set_ylim(-35, 50)\n",
        "# Annotations\n",
        "for i in tv.index:\n",
        "    ax.annotate(f\"{-tv[i]}\", \n",
        "                   xy=(i, tv[i] - 60),\n",
        "                   va = 'center', ha='center',fontweight='light', fontfamily='serif',\n",
        "                   color='#4a4a4a')   \n",
        "\n",
        "for i in movie.index:\n",
        "    ax.annotate(f\"{movie[i]}\", \n",
        "                   xy=(i, movie[i] + 60),\n",
        "                   va = 'center', ha='center',fontweight='light', fontfamily='serif',\n",
        "                   color='#4a4a4a')\n",
        "for s in ['top', 'left', 'right', 'bottom']:\n",
        "    ax.spines[s].set_visible(False)\n",
        "\n",
        "ax.set_xticklabels(mf.columns, fontfamily='serif')\n",
        "ax.set_yticks([])    \n",
        "\n",
        "ax.legend().set_visible(False)\n",
        "\n",
        "\n",
        "fig_text(x=0.16,y=1)\n",
        "\n",
        "\n",
        "\n",
        "fig.text(0.755,0.924,\"Movie\", fontweight=\"bold\", fontfamily='serif', fontsize=15, color='#b20710')\n",
        "fig.text(0.815,0.924,\"|\", fontweight=\"bold\", fontfamily='serif', fontsize=15, color='black')\n",
        "fig.text(0.825,0.924,\"TV Show\", fontweight=\"bold\", fontfamily='serif', fontsize=15, color='#221f1f')\n",
        "labels = ['movie','TVshow']\n",
        "plt.legend(labels)\n",
        "plt.show()\n"
      ],
      "metadata": {
        "colab": {
          "base_uri": "https://localhost:8080/",
          "height": 436
        },
        "id": "q-HK7ydvLCzH",
        "outputId": "ea78b091-e7e4-4b15-d1b8-ead21eb60aa3"
      },
      "execution_count": null,
      "outputs": [
        {
          "output_type": "display_data",
          "data": {
            "text/plain": [
              "<Figure size 864x432 with 1 Axes>"
            ],
            "image/png": "[encoded data removed]"
          },
          "metadata": {
            "needs_background": "light"
          }
        }
      ]
    },
    {
      "cell_type": "code",
      "source": [
        "month_order = ['January',\n",
        " 'February',\n",
        " 'March',\n",
        " 'April',\n",
        " 'May',\n",
        " 'June',\n",
        " 'July',\n",
        " 'August',\n",
        " 'September',\n",
        " 'October',\n",
        " 'November',\n",
        " 'December']\n",
        "\n",
        "df['month_name_added'] = pd.Categorical(df['month_name_added'], categories=month_order, ordered=True)"
      ],
      "metadata": {
        "id": "FHIBnXvYLVXQ"
      },
      "execution_count": 24,
      "outputs": []
    },
    {
      "cell_type": "code",
      "source": [
        "data_sub = df.groupby('type')['month_name_added'].value_counts().unstack().fillna(0).loc[['TV Show','Movie']].cumsum(axis=0).T\n",
        "\n",
        "fig, ax = plt.subplots(1, 1, figsize=(12, 6))\n",
        "color = [\"#b20710\", \"#221f1f\"]\n",
        "\n",
        "for i, mtv in enumerate(df['type'].value_counts().index):\n",
        "    mtv_rel = data_sub[mtv]\n",
        "    ax.fill_between(mtv_rel.index, 0, mtv_rel, color=color[i], label=mtv,alpha=0.9)\n",
        "ax.yaxis.tick_right()\n",
        "    \n",
        "ax.axhline(y = 0, color = 'black', linewidth = 1.3, alpha = .4)\n",
        "\n",
        "#ax.set_ylim(0, 50)\n",
        "#ax.legend(loc='upper left')\n",
        "for s in ['top', 'right','bottom','left']:\n",
        "    ax.spines[s].set_visible(False)\n",
        "\n",
        "ax.grid(False)\n",
        "ax.set_xticklabels(data_sub.index, fontfamily='serif', rotation=0)\n",
        "ax.margins(x=0) # remove white spaces next to margins\n",
        "\n",
        "#ax.set_xlim(2008,2020)\n",
        "#plt.xticks(np.arange(2008, 2021, 1))\n",
        "\n",
        "\n",
        "\n",
        "fig.text(0.13, 0.95, 'Content added by month [Cumulative Total]', fontsize=15, fontweight='bold', fontfamily='serif')\n",
        "\n",
        "label(x='movie',y='tv show')\n",
        "\n",
        "plt.show()"
      ],
      "metadata": {
        "colab": {
          "base_uri": "https://localhost:8080/",
          "height": 411
        },
        "id": "sL8Rk3UcLwla",
        "outputId": "96d06d9b-3ea8-4267-9bf1-b0c2500a4ff5"
      },
      "execution_count": 25,
      "outputs": [
        {
          "output_type": "display_data",
          "data": {
            "text/plain": [
              "<Figure size 864x432 with 1 Axes>"
            ],
            "image/png": "[encoded data removed]"
          },
          "metadata": {
            "needs_background": "light"
          }
        }
      ]
    },
    {
      "cell_type": "code",
      "source": [
        "df_tv = df[df[\"type\"] == \"TV Show\"]\n",
        "df_movies = df[df[\"type\"] == \"Movie\"]\n",
        "df_movies\n",
        "df_tv\n",
        "\n",
        "### Relevant groupings\n",
        "\n",
        "data = df_movies.groupby('first_country')[['first_country','count']].sum().sort_values(by='count',ascending=False).reset_index()[:10]\n",
        "data = data['first_country']\n",
        "df_loli = df_movies.loc[df_movies['first_country'].isin(data)]\n",
        "loli = df_loli.groupby('first_country')['release_year','year_added'].mean().round()\n",
        "\n",
        "\n",
        "# Reorder it following the values of the first value\n",
        "ordered_df = loli.sort_values(by='release_year')\n",
        "\n",
        "ordered_df_rev = loli.sort_values(by='release_year',ascending=False)\n",
        "\n",
        "my_range=range(1,len(loli.index)+1)\n",
        "\n",
        "\n",
        "fig, ax = plt.subplots(1, 1, figsize=(7, 5))\n",
        "fig.text(0.13, 0.9, 'How old are the movies? [Average]', fontsize=15, fontweight='bold', fontfamily='serif')\n",
        "#plt.hlines(y=my_range, xmin=ordered_df['release_year'], xmax=ordered_df['year_added'], color='grey', alpha=0.4)\n",
        "plt.scatter(ordered_df['release_year'], my_range, color='#221f1f',s=100, alpha=0.9, label='Average release date')\n",
        "plt.scatter(ordered_df['year_added'], my_range, color='#b20710',s=100, alpha=0.9 , label='Average added date')\n",
        "#plt.legend()\n",
        "\n",
        "marks(x='top',y='left',z='right',w='bottom')\n",
        "\n",
        "\n",
        "\n",
        "\n",
        "plt.yticks(my_range, ordered_df.index)\n",
        "plt.yticks(fontname = \"serif\",fontsize=12)\n",
        "\n",
        "# Custome legend\n",
        "fig.text(0.19,0.175,\"Released\", fontweight=\"bold\", fontfamily='serif', fontsize=12, color='#221f1f')\n",
        "fig.text(0.76,0.175,\"Added\", fontweight=\"bold\", fontfamily='serif', fontsize=12, color='#b20710')\n",
        "\n",
        "labels = ['Relesed','Added']\n",
        "plt.legend(labels,loc = 'upper left')\n",
        "plt.show()"
      ],
      "metadata": {
        "colab": {
          "base_uri": "https://localhost:8080/",
          "height": 389
        },
        "id": "3E7_YynEORgg",
        "outputId": "45c678ec-39da-4f47-c748-f4711d457834"
      },
      "execution_count": 26,
      "outputs": [
        {
          "output_type": "stream",
          "name": "stderr",
          "text": [
            "/usr/local/lib/python3.7/dist-packages/ipykernel_launcher.py:11: FutureWarning: Indexing with multiple keys (implicitly converted to a tuple of keys) will be deprecated, use a list instead.\n",
            "  # This is added back by InteractiveShellApp.init_path()\n"
          ]
        },
        {
          "output_type": "display_data",
          "data": {
            "text/plain": [
              "<Figure size 504x360 with 1 Axes>"
            ],
            "image/png": "[encoded data removed]"
          },
          "metadata": {
            "needs_background": "light"
          }
        }
      ]
    }
  ]
}